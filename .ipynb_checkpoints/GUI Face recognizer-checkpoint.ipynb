{
 "cells": [
  {
   "cell_type": "code",
   "execution_count": 10,
   "id": "d26c5d4e",
   "metadata": {},
   "outputs": [],
   "source": [
    "import tkinter as tk\n",
    "from tkinter import messagebox\n",
    "import numpy as np\n",
    "from PIL import Image \n",
    "import os\n",
    "import cv2"
   ]
  },
  {
   "cell_type": "code",
   "execution_count": 11,
   "id": "e4107b7c",
   "metadata": {},
   "outputs": [],
   "source": [
    "import mysql.connector"
   ]
  },
  {
   "cell_type": "code",
   "execution_count": 12,
   "id": "8dd284b4",
   "metadata": {},
   "outputs": [
    {
     "name": "stdout",
     "output_type": "stream",
     "text": [
      "<mysql.connector.connection.MySQLConnection object at 0x00000171A9B91D00>\n"
     ]
    }
   ],
   "source": [
    "mydb=mysql.connector.connect(\n",
    "host=\"localhost\",\n",
    "user=\"root\",\n",
    "passwd=\"\"\n",
    ")\n",
    "print(mydb)\n"
   ]
  },
  {
   "cell_type": "code",
   "execution_count": 13,
   "id": "898f6c49",
   "metadata": {},
   "outputs": [],
   "source": [
    "mycursor=mydb.cursor()\n",
    "#mycursor.execute(\"CREATE DATABASE Authorized_user\")"
   ]
  },
  {
   "cell_type": "code",
   "execution_count": 14,
   "id": "7a507bd8",
   "metadata": {},
   "outputs": [
    {
     "name": "stdout",
     "output_type": "stream",
     "text": [
      "('authorized_user',)\n",
      "('cs firm',)\n",
      "('information_schema',)\n",
      "('mysql',)\n",
      "('performance_schema',)\n",
      "('phpmyadmin',)\n",
      "('test',)\n",
      "('wordpress',)\n"
     ]
    }
   ],
   "source": [
    "mycursor.execute(\"SHOW DATABASES\")\n",
    "for x in mycursor:\n",
    "    print (x)"
   ]
  },
  {
   "cell_type": "code",
   "execution_count": 15,
   "id": "0cfa611e",
   "metadata": {},
   "outputs": [],
   "source": [
    "#mycursor.execute(\"drop database hello\")"
   ]
  },
  {
   "cell_type": "code",
   "execution_count": 16,
   "id": "54608aa3",
   "metadata": {},
   "outputs": [],
   "source": [
    "mydb=mysql.connector.connect(\n",
    "host=\"localhost\",\n",
    "user=\"root\",\n",
    "passwd=\"\",\n",
    "database=\"Authorized_user\"\n",
    ")\n",
    "mycursor=mydb.cursor()\n",
    "#mycursor.execute(\"create table my_table(id int primary key, Name varchar(50), Age int, Address varchar(50))\")\n"
   ]
  },
  {
   "cell_type": "code",
   "execution_count": 17,
   "id": "e0e69d55",
   "metadata": {},
   "outputs": [
    {
     "name": "stdout",
     "output_type": "stream",
     "text": [
      "('my_table',)\n"
     ]
    }
   ],
   "source": [
    "mycursor.execute(\"SHOW TABLES\")\n",
    "for x in mycursor:\n",
    "    print (x)"
   ]
  },
  {
   "cell_type": "code",
   "execution_count": 20,
   "id": "77e10249",
   "metadata": {},
   "outputs": [
    {
     "name": "stderr",
     "output_type": "stream",
     "text": [
      "<>:131: SyntaxWarning: \"is\" with a literal. Did you mean \"==\"?\n",
      "<>:131: SyntaxWarning: \"is\" with a literal. Did you mean \"==\"?\n",
      "<ipython-input-20-c0324a36f74b>:131: SyntaxWarning: \"is\" with a literal. Did you mean \"==\"?\n",
      "  if faces is ():\n"
     ]
    }
   ],
   "source": [
    "window = tk.Tk()\n",
    "window.title(\"Face Recognition system\")\n",
    "\n",
    "l1 = tk.Label(window, text=\"Name\", font=(\"Algerian\",20))\n",
    "l1.grid(column=0, row=0)\n",
    "t1 = tk.Entry(window, width=50, bd=5)\n",
    "t1.grid(column=1, row=0)\n",
    "\n",
    "l2 = tk.Label(window, text=\"Age\", font=(\"Algerian\",20))\n",
    "l2.grid(column=0, row=1)\n",
    "t2 = tk.Entry(window, width=50, bd=5)\n",
    "t2.grid(column=1, row=1)\n",
    "\n",
    "l3 = tk.Label(window, text=\"Address\", font=(\"Algerian\",20))\n",
    "l3.grid(column=0, row=2)\n",
    "t3 = tk.Entry(window, width=50, bd=5)\n",
    "t3.grid(column=1, row=2)\n",
    "\n",
    "def train_classifier():\n",
    "    data_dir=\"C:/Users/riyasatam/OneDrive/Desktop/Face Recognizer/Data\"\n",
    "    path = [os.path.join(data_dir, f) for f in os.listdir(data_dir)]\n",
    "    \n",
    "    faces = []\n",
    "    ids = []\n",
    "    \n",
    "    for image in path:\n",
    "        img = Image.open(image).convert('L')\n",
    "        imageNp = np.array(img, 'uint8')\n",
    "        id = int(os.path.split(image)[1].split(\".\")[1])\n",
    "        \n",
    "        faces.append(imageNp)\n",
    "        ids.append(id)\n",
    "        \n",
    "    ids = np.array(ids)\n",
    "    \n",
    "    # Train and save classifier\n",
    "    clf = cv2.face.LBPHFaceRecognizer_create()\n",
    "    clf.train(faces,ids)\n",
    "    clf.write(\"classifier.xml\")\n",
    "    messagebox.showinfo('Result','Training dataset is completed')\n",
    "b1 = tk.Button(window, text=\"Training\", font=(\"Algerian\",20),bg=\"red\",fg=\"black\", command=train_classifier)\n",
    "b1.grid(column=0, row=4)\n",
    "\n",
    "def detect_faces():\n",
    "    def draw_boundary(img, classifier, scaleFactor, minNeighbors, color, text, clf):\n",
    "        gray_img = cv2.cvtColor(img, cv2.COLOR_BGR2GRAY)\n",
    "        features = classifier.detectMultiScale(gray_img, scaleFactor, minNeighbors)\n",
    "        \n",
    "        coords = []\n",
    "\n",
    "        for (x,y,w,h) in features:\n",
    "            cv2.rectangle(img, (x,y), (x+w,y+h), color, 2 )\n",
    "            id, pred = clf.predict(gray_img[y:y+h,x:x+w])\n",
    "            confidence = int(100*(1-pred/300))\n",
    "            \n",
    "            mydb=mysql.connector.connect(\n",
    "            host=\"localhost\",\n",
    "            user=\"root\",\n",
    "            passwd=\"\",\n",
    "            database=\"Authorized_user\"\n",
    "            )\n",
    "            mycursor=mydb.cursor()\n",
    "            mycursor.execute(\"select name from my_table where id=\"+str(id))\n",
    "            s = mycursor.fetchone()\n",
    "            s = ''+''.join(s)\n",
    "        \n",
    "\n",
    "            if confidence>74:\n",
    "                cv2.putText(img, s, (x,y-5), cv2.FONT_HERSHEY_SIMPLEX, 0.8, color, 1, cv2.LINE_AA)\n",
    "                \n",
    "            else:\n",
    "                cv2.putText(img, \"UNKNOWN\", (x,y-5), cv2.FONT_HERSHEY_SIMPLEX, 0.8, (0,0,255), 1, cv2.LINE_AA)\n",
    "                \n",
    "            coords=[x,y,w,h]\n",
    "        return coords\n",
    "            \n",
    "    def recognize(img,clf,faceCascade):\n",
    "        coords = draw_boundary(img,faceCascade,1.1,10,(255,255,255),\"Face\",clf)\n",
    "\n",
    "        return img\n",
    "\n",
    "    # loading classifier\n",
    "    faceCascade = cv2.CascadeClassifier(\"haarcascade_frontalface_default.xml\")\n",
    "\n",
    "    clf = cv2.face.LBPHFaceRecognizer_create()\n",
    "    clf.read(\"classifier.xml\")\n",
    "\n",
    "    video_capture = cv2.VideoCapture(0)\n",
    "\n",
    "    while True:\n",
    "        ret, img = video_capture.read()\n",
    "        img =  recognize(img,clf,faceCascade)\n",
    "        cv2.imshow(\"face Detection\", img)\n",
    "\n",
    "        if cv2.waitKey(1)==13:\n",
    "            break\n",
    "\n",
    "    video_capture.release()\n",
    "    cv2.destroyAllWindows()\n",
    "\n",
    "b2 = tk.Button(window, text=\"Detect the faces\", font=(\"Algerian\",20), bg=\"light blue\", fg=\"black\", command=detect_faces)\n",
    "b2.grid(column=1, row=4)\n",
    "\n",
    "def generate_dataset():\n",
    "    if(t1.get()==\"\" or t2.get()==\"\" or t3.get()==\"\"):\n",
    "        messagebox.showinfo('Result','Please provide complete details of user')\n",
    "    else:\n",
    "        mydb=mysql.connector.connect(\n",
    "        host=\"localhost\",\n",
    "        user=\"root\",\n",
    "        passwd=\"\",\n",
    "        database=\"Authorized_user\"\n",
    "        )\n",
    "        mycursor=mydb.cursor()\n",
    "        mycursor.execute(\"SELECT * from my_table\")\n",
    "        myresult=mycursor.fetchall()\n",
    "        id=1\n",
    "        for x in myresult:\n",
    "            id+=1\n",
    "        sql=\"insert into my_table(id,Name,Age,Address) values(%s,%s,%s,%s)\"\n",
    "        val=(id,t1.get(),t2.get(),t3.get())\n",
    "        mycursor.execute(sql,val)\n",
    "        mydb.commit()\n",
    "        face_classifier = cv2.CascadeClassifier(\"haarcascade_frontalface_default.xml\")\n",
    "        def face_cropped(img):\n",
    "            gray = cv2.cvtColor(img,cv2.COLOR_BGR2GRAY)\n",
    "            faces = face_classifier.detectMultiScale(gray, 1.3, 5)\n",
    "            # scaling factor = 1.3\n",
    "            # minimum neighbor = 5\n",
    "\n",
    "            if faces is ():\n",
    "                return None\n",
    "            for (x,y,w,h) in faces:\n",
    "                cropped_face = img[y:y+h,x:x+w]\n",
    "            return cropped_face\n",
    "\n",
    "        cap = cv2.VideoCapture(0)\n",
    "        id =1\n",
    "        img_id = 0\n",
    "\n",
    "\n",
    "        while True:\n",
    "            ret, frame = cap.read()\n",
    "            if face_cropped(frame) is not None:\n",
    "                img_id+=1\n",
    "                face = cv2.resize(face_cropped(frame), (200,200))\n",
    "                face = cv2.cvtColor(face, cv2.COLOR_BGR2GRAY)\n",
    "                file_name_path = \"data/user.\"+str(id)+\".\"+str(img_id)+\".jpg\"\n",
    "                cv2.imwrite(file_name_path, face)\n",
    "                cv2.putText(face, str(img_id), (50,50), cv2.FONT_HERSHEY_COMPLEX, 1, (0,255,0), 2)\n",
    "                #(50,50)is origin point from where text is to be written\n",
    "                #font scale = 1\n",
    "                #thickness = 2\n",
    "\n",
    "                cv2.imshow(\"Cropped face\", face)\n",
    "\n",
    "            if cv2.waitKey(1)==13 or int(img_id)==200: #13 is the ASCII character of Enter\n",
    "                break\n",
    "        cap.release()\n",
    "        cv2.destroyAllWindows()\n",
    "        messagebox.showinfo('Result','Generating Dataset completed!!!')\n",
    "b3 = tk.Button(window, text=\"Generate dataset\", font=(\"Algerian\",20), bg=\"violet\", fg=\"black\", command=generate_dataset)\n",
    "b3.grid(column=2, row=4)\n",
    "\n",
    "window.geometry(\"800x200\")\n",
    "window.mainloop()"
   ]
  },
  {
   "cell_type": "code",
   "execution_count": null,
   "id": "469c22e6",
   "metadata": {},
   "outputs": [],
   "source": []
  },
  {
   "cell_type": "code",
   "execution_count": null,
   "id": "41611c25",
   "metadata": {},
   "outputs": [],
   "source": []
  }
 ],
 "metadata": {
  "kernelspec": {
   "display_name": "Python 3",
   "language": "python",
   "name": "python3"
  },
  "language_info": {
   "codemirror_mode": {
    "name": "ipython",
    "version": 3
   },
   "file_extension": ".py",
   "mimetype": "text/x-python",
   "name": "python",
   "nbconvert_exporter": "python",
   "pygments_lexer": "ipython3",
   "version": "3.8.8"
  }
 },
 "nbformat": 4,
 "nbformat_minor": 5
}
